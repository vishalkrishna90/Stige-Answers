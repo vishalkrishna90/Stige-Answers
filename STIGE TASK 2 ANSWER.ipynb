{
 "cells": [
  {
   "cell_type": "code",
   "execution_count": 1,
   "id": "39ed52c5",
   "metadata": {},
   "outputs": [],
   "source": [
    "import pandas as pd\n",
    "import numpy as np"
   ]
  },
  {
   "cell_type": "code",
   "execution_count": 2,
   "id": "14a78dc9",
   "metadata": {},
   "outputs": [],
   "source": [
    "df1 = pd.read_csv('D:/STIGE/Case Study_Virtual Gaming Startup  - Daily User-wise Revenue data.csv')\n",
    "df2 = pd.read_csv('D:/STIGE/Case Study_Virtual Gaming Startup  - User Demographics.csv')\n"
   ]
  },
  {
   "cell_type": "code",
   "execution_count": 3,
   "id": "d74edefb",
   "metadata": {},
   "outputs": [],
   "source": [
    "df1.rename(columns= {'User id':'User Id'}, inplace=True)"
   ]
  },
  {
   "cell_type": "code",
   "execution_count": 4,
   "id": "22dd240f",
   "metadata": {},
   "outputs": [
    {
     "data": {
      "text/html": [
       "<div>\n",
       "<style scoped>\n",
       "    .dataframe tbody tr th:only-of-type {\n",
       "        vertical-align: middle;\n",
       "    }\n",
       "\n",
       "    .dataframe tbody tr th {\n",
       "        vertical-align: top;\n",
       "    }\n",
       "\n",
       "    .dataframe thead th {\n",
       "        text-align: right;\n",
       "    }\n",
       "</style>\n",
       "<table border=\"1\" class=\"dataframe\">\n",
       "  <thead>\n",
       "    <tr style=\"text-align: right;\">\n",
       "      <th></th>\n",
       "      <th>Date</th>\n",
       "      <th>User Id</th>\n",
       "      <th>Revenue collected</th>\n",
       "    </tr>\n",
       "  </thead>\n",
       "  <tbody>\n",
       "    <tr>\n",
       "      <th>0</th>\n",
       "      <td>04-01-2021</td>\n",
       "      <td>FF5B5B7F</td>\n",
       "      <td>53</td>\n",
       "    </tr>\n",
       "    <tr>\n",
       "      <th>1</th>\n",
       "      <td>04-01-2021</td>\n",
       "      <td>18427542</td>\n",
       "      <td>68</td>\n",
       "    </tr>\n",
       "    <tr>\n",
       "      <th>2</th>\n",
       "      <td>04-01-2021</td>\n",
       "      <td>C0307F5B</td>\n",
       "      <td>85</td>\n",
       "    </tr>\n",
       "    <tr>\n",
       "      <th>3</th>\n",
       "      <td>04-01-2021</td>\n",
       "      <td>C56C2457</td>\n",
       "      <td>90</td>\n",
       "    </tr>\n",
       "    <tr>\n",
       "      <th>4</th>\n",
       "      <td>04-01-2021</td>\n",
       "      <td>E7C82918</td>\n",
       "      <td>75</td>\n",
       "    </tr>\n",
       "  </tbody>\n",
       "</table>\n",
       "</div>"
      ],
      "text/plain": [
       "         Date   User Id  Revenue collected\n",
       "0  04-01-2021  FF5B5B7F                 53\n",
       "1  04-01-2021  18427542                 68\n",
       "2  04-01-2021  C0307F5B                 85\n",
       "3  04-01-2021  C56C2457                 90\n",
       "4  04-01-2021  E7C82918                 75"
      ]
     },
     "execution_count": 4,
     "metadata": {},
     "output_type": "execute_result"
    }
   ],
   "source": [
    "df1.head()"
   ]
  },
  {
   "cell_type": "code",
   "execution_count": 15,
   "id": "3def414f",
   "metadata": {},
   "outputs": [
    {
     "data": {
      "text/plain": [
       "Date                       0\n",
       "User Id                    0\n",
       "Revenue collected          0\n",
       "State (entered by user)    0\n",
       "Gender                     0\n",
       "dtype: int64"
      ]
     },
     "execution_count": 15,
     "metadata": {},
     "output_type": "execute_result"
    }
   ],
   "source": [
    "df.isnull().sum()"
   ]
  },
  {
   "cell_type": "code",
   "execution_count": 5,
   "id": "c4ed181a",
   "metadata": {},
   "outputs": [],
   "source": [
    "df = pd.merge(df1,df2, on = 'User Id')"
   ]
  },
  {
   "cell_type": "code",
   "execution_count": 11,
   "id": "29c3b1cc",
   "metadata": {},
   "outputs": [
    {
     "data": {
      "text/html": [
       "<div>\n",
       "<style scoped>\n",
       "    .dataframe tbody tr th:only-of-type {\n",
       "        vertical-align: middle;\n",
       "    }\n",
       "\n",
       "    .dataframe tbody tr th {\n",
       "        vertical-align: top;\n",
       "    }\n",
       "\n",
       "    .dataframe thead th {\n",
       "        text-align: right;\n",
       "    }\n",
       "</style>\n",
       "<table border=\"1\" class=\"dataframe\">\n",
       "  <thead>\n",
       "    <tr style=\"text-align: right;\">\n",
       "      <th></th>\n",
       "      <th>Date</th>\n",
       "      <th>User Id</th>\n",
       "      <th>Revenue collected</th>\n",
       "      <th>State (entered by user)</th>\n",
       "      <th>Gender</th>\n",
       "    </tr>\n",
       "  </thead>\n",
       "  <tbody>\n",
       "    <tr>\n",
       "      <th>0</th>\n",
       "      <td>01-04-2021</td>\n",
       "      <td>FF5B5B7F</td>\n",
       "      <td>53</td>\n",
       "      <td>Karnataka</td>\n",
       "      <td>M</td>\n",
       "    </tr>\n",
       "    <tr>\n",
       "      <th>1</th>\n",
       "      <td>02-04-2021</td>\n",
       "      <td>FF5B5B7F</td>\n",
       "      <td>68</td>\n",
       "      <td>Karnataka</td>\n",
       "      <td>M</td>\n",
       "    </tr>\n",
       "    <tr>\n",
       "      <th>2</th>\n",
       "      <td>03-04-2021</td>\n",
       "      <td>FF5B5B7F</td>\n",
       "      <td>53</td>\n",
       "      <td>Karnataka</td>\n",
       "      <td>M</td>\n",
       "    </tr>\n",
       "    <tr>\n",
       "      <th>3</th>\n",
       "      <td>04-04-2021</td>\n",
       "      <td>FF5B5B7F</td>\n",
       "      <td>67</td>\n",
       "      <td>Karnataka</td>\n",
       "      <td>M</td>\n",
       "    </tr>\n",
       "    <tr>\n",
       "      <th>4</th>\n",
       "      <td>05-04-2021</td>\n",
       "      <td>FF5B5B7F</td>\n",
       "      <td>55</td>\n",
       "      <td>Karnataka</td>\n",
       "      <td>M</td>\n",
       "    </tr>\n",
       "  </tbody>\n",
       "</table>\n",
       "</div>"
      ],
      "text/plain": [
       "         Date   User Id  Revenue collected State (entered by user) Gender\n",
       "0  01-04-2021  FF5B5B7F                 53               Karnataka      M\n",
       "1  02-04-2021  FF5B5B7F                 68               Karnataka      M\n",
       "2  03-04-2021  FF5B5B7F                 53               Karnataka      M\n",
       "3  04-04-2021  FF5B5B7F                 67               Karnataka      M\n",
       "4  05-04-2021  FF5B5B7F                 55               Karnataka      M"
      ]
     },
     "execution_count": 11,
     "metadata": {},
     "output_type": "execute_result"
    }
   ],
   "source": [
    "df.head()"
   ]
  },
  {
   "cell_type": "code",
   "execution_count": 8,
   "id": "49fc757c",
   "metadata": {},
   "outputs": [],
   "source": [
    "df['Date'] = df['Date'].str.replace('/','-')\n",
    "df['Date'] = pd.to_datetime(df['Date'])\n",
    "df['Date'] = df['Date'].dt.strftime('%d-%m-%Y')"
   ]
  },
  {
   "cell_type": "code",
   "execution_count": 13,
   "id": "982d0105",
   "metadata": {},
   "outputs": [
    {
     "data": {
      "text/html": [
       "<div>\n",
       "<style scoped>\n",
       "    .dataframe tbody tr th:only-of-type {\n",
       "        vertical-align: middle;\n",
       "    }\n",
       "\n",
       "    .dataframe tbody tr th {\n",
       "        vertical-align: top;\n",
       "    }\n",
       "\n",
       "    .dataframe thead th {\n",
       "        text-align: right;\n",
       "    }\n",
       "</style>\n",
       "<table border=\"1\" class=\"dataframe\">\n",
       "  <thead>\n",
       "    <tr style=\"text-align: right;\">\n",
       "      <th></th>\n",
       "      <th>Date</th>\n",
       "      <th>User Id</th>\n",
       "      <th>Revenue collected</th>\n",
       "      <th>State (entered by user)</th>\n",
       "      <th>Gender</th>\n",
       "    </tr>\n",
       "  </thead>\n",
       "  <tbody>\n",
       "    <tr>\n",
       "      <th>0</th>\n",
       "      <td>01-04-2021</td>\n",
       "      <td>FF5B5B7F</td>\n",
       "      <td>53</td>\n",
       "      <td>Karnataka</td>\n",
       "      <td>M</td>\n",
       "    </tr>\n",
       "    <tr>\n",
       "      <th>1</th>\n",
       "      <td>02-04-2021</td>\n",
       "      <td>FF5B5B7F</td>\n",
       "      <td>68</td>\n",
       "      <td>Karnataka</td>\n",
       "      <td>M</td>\n",
       "    </tr>\n",
       "    <tr>\n",
       "      <th>2</th>\n",
       "      <td>03-04-2021</td>\n",
       "      <td>FF5B5B7F</td>\n",
       "      <td>53</td>\n",
       "      <td>Karnataka</td>\n",
       "      <td>M</td>\n",
       "    </tr>\n",
       "    <tr>\n",
       "      <th>3</th>\n",
       "      <td>04-04-2021</td>\n",
       "      <td>FF5B5B7F</td>\n",
       "      <td>67</td>\n",
       "      <td>Karnataka</td>\n",
       "      <td>M</td>\n",
       "    </tr>\n",
       "    <tr>\n",
       "      <th>4</th>\n",
       "      <td>05-04-2021</td>\n",
       "      <td>FF5B5B7F</td>\n",
       "      <td>55</td>\n",
       "      <td>Karnataka</td>\n",
       "      <td>M</td>\n",
       "    </tr>\n",
       "  </tbody>\n",
       "</table>\n",
       "</div>"
      ],
      "text/plain": [
       "         Date   User Id  Revenue collected State (entered by user) Gender\n",
       "0  01-04-2021  FF5B5B7F                 53               Karnataka      M\n",
       "1  02-04-2021  FF5B5B7F                 68               Karnataka      M\n",
       "2  03-04-2021  FF5B5B7F                 53               Karnataka      M\n",
       "3  04-04-2021  FF5B5B7F                 67               Karnataka      M\n",
       "4  05-04-2021  FF5B5B7F                 55               Karnataka      M"
      ]
     },
     "execution_count": 13,
     "metadata": {},
     "output_type": "execute_result"
    }
   ],
   "source": [
    "df.head()"
   ]
  },
  {
   "cell_type": "code",
   "execution_count": 12,
   "id": "3087b20e",
   "metadata": {},
   "outputs": [
    {
     "data": {
      "text/plain": [
       "array(['01-04-2021', '02-04-2021', '03-04-2021', '04-04-2021',\n",
       "       '05-04-2021', '06-04-2021', '07-04-2021', '08-04-2021',\n",
       "       '09-04-2021', '10-04-2021', '11-04-2021', '12-04-2021',\n",
       "       '13-04-2021', '14-04-2021', '15-04-2021', '16-04-2021',\n",
       "       '17-04-2021', '18-04-2021', '19-04-2021', '20-04-2021',\n",
       "       '21-04-2021', '22-04-2021', '23-04-2021', '24-04-2021',\n",
       "       '25-04-2021', '26-04-2021', '27-04-2021', '28-04-2021',\n",
       "       '29-04-2021', '30-04-2021'], dtype=object)"
      ]
     },
     "execution_count": 12,
     "metadata": {},
     "output_type": "execute_result"
    }
   ],
   "source": [
    "df.Date.unique()"
   ]
  },
  {
   "cell_type": "code",
   "execution_count": 14,
   "id": "5bbc6dac",
   "metadata": {},
   "outputs": [
    {
     "data": {
      "text/plain": [
       "array(['FF5B5B7F', '18427542', 'C0307F5B', 'C56C2457', 'E7C82918',\n",
       "       '72D62E07', '74294C85', '6D9F3927', 'A3AE9A1A', '145EBCD9',\n",
       "       '90F3C012', 'C18F07ED', '228F7597', '4D3F7AEB', '98CD9ADD',\n",
       "       '1AE0A4E7', 'A5DDC241', '55244E3C', '8BAE3093', '1DDA79BB',\n",
       "       'C4C1D50D', '0E86E591', 'EE08F92F', 'B43915F7', '261EB394',\n",
       "       '53C7AF11', '751501C2', '94E10475', '9C43D0F1', 'C8620D80',\n",
       "       '93D80631', '6C43B5D1', 'AECBD811', '507489C6', 'EA7D7881',\n",
       "       '83E654B8', 'AF7094F3', '4AB8D2EA', '142C12AB', 'AEAE51FF',\n",
       "       '5599060', '8C588285', '1F50E8F5', '69E982A2', '81C6180A',\n",
       "       'F518567D', 'F1059285', '3A699DF5', '59C1F7CC', '8CE74BB3',\n",
       "       '7FDB1E6F', '8066BEE4', 'A2878B0A', 'B9627DCB', 'AF63F4A2',\n",
       "       '51583BFC', '89D23918', '00395C20', 'FD322A9E', '50E8B8E2',\n",
       "       '58912683', 'EBD47FE8', 'BD0FEAA8', '1896FF27', '8210E2CA',\n",
       "       'FB88D248', '1E10D8A3', 'F38A5426', '262F1592', '83AC5A39',\n",
       "       '70C4D60B', '945387F0', 'FE4BE4E9', '827884B9', '45091D8E',\n",
       "       'D5C60333', '3F4F07B1', 'BDE7CEDF', '1AA6E3FC', 'D7C7831C',\n",
       "       '71501EB9', '42E0CAB5', 'FB38B31C', '99BB30E7', '5A5E5B16',\n",
       "       '51217A7A', 'C58AD21C', 'FCA529B3', 'E8A7322B', '4830B68F',\n",
       "       '4769675C', 'A5C0AD33', 'C6607DD8', '6BE65D64', '57D8956F',\n",
       "       '008B558C', 'B0368ACA', '36F6E3D0', '6A138EDD', '1AC71400',\n",
       "       '4DECD70A', '342C5654', '1C69E9A9', '18AA2A87', '590DD8D0',\n",
       "       'BEAEF37B', '3A04F389', '5681F3FF', 'BE235393', '1654FD95',\n",
       "       'AEA41CE0', '026446B6', 'DA3E032C', 'C1E9C4F4', 'C822DA7F',\n",
       "       'ADAAB628', '23C1C29B', '2ABAD9C9', '49779CFE', 'D5B104B8',\n",
       "       '7525BEDD', '6DB0D7AD', 'DF6DAFDD', 'F19D09B9', '0C8BC74E',\n",
       "       '48C5810F', '39D347C0', 'E6AF47BC', '16192216', '309BA8EA',\n",
       "       '2BB733E9', '543939B2', 'B71D69C9', '1BAADF90', '7378812C',\n",
       "       'D2812577', '743A6BEE', 'FB0109F3', 'EC7C486D', 'D2B99AA4',\n",
       "       '18C4D50F', 'DA9020DF', '5B753F27', '803CC05B', '353C4AFF',\n",
       "       '9AB85674', '603486D3', '80687273', '67B445E1', 'E3B1517D',\n",
       "       '9473884B', '660ADBA3', '68EC9D79', 'C4D603DC', '3029DDFB',\n",
       "       'EC242D1A', '9DAF89A9', 'CAEA2A50', '0A9095DF', 'CC0B9DC4',\n",
       "       'BD837D51', '5F0B864A', 'B7C5DC54', 'DC62E3D7', '60B46FE8',\n",
       "       '17037624', 'BFCEF323', 'AD1CF26C', '871252F8', '2DD34A77',\n",
       "       '7744EBFA', 'EDE0C257', 'C1E74E3C', 'DF877CA7', '49CB824D',\n",
       "       'F231DC4C', '89552B10', '6C1E497B', '3AC44F91', '83B7C0A1',\n",
       "       '6B86EEAA', 'A2DF27B7', '199EAC9A', '4DE98D45', 'DFEB2241',\n",
       "       'FB684FB5', 'DBD1DDA7', 'BAA433F8', '22C0388B', 'EA5D060E',\n",
       "       'CC8C288B', '24C3FEB1', 'C057D631', 'E56CF2FC', 'ACA0D68F',\n",
       "       '5D11FD2B', '1151B745', 'B396A195', '9E6A1D6F', 'D9C5463F',\n",
       "       '2D85EE7A', '142F606B', 'D133F8DA', 'AEC8D3A9', '416C20FF',\n",
       "       'FB3A608D', '5289D26D', '3774DD56', '3593AA87', '7C3A5083',\n",
       "       'E6ABDCCE', '4E589D9D', '6F6AC084', '345BA400', 'C3E55E78',\n",
       "       '541CD604', '8449C083', '2C88094D', '63D8AC39', '0361C9D2',\n",
       "       'D60A5944', '12C50F0F', '68BF7E44', 'F8FC1043', '5F829360',\n",
       "       'E8558F92', '4B33D5AA', '51A6D68B', 'B732642A', '8FE7658A',\n",
       "       'CC0567C4', '827066EC', '3D2B86DE', '49467190', 'C24B2212',\n",
       "       'A4838AE3', '9BE9E656', '1F2D7132', '8930FFF3', '6294066A',\n",
       "       '7042ECEC', 'D2F6A7DE', '15A09845', '6D6CE7FD', '8FFA3A75',\n",
       "       '400B75BD', 'A5C8A1EA', '071C81CF', 'B382894D', 'F2DBA54F',\n",
       "       '3CBCFBBB', '4D099603', '904B98C0', '7B168025', 'CBC3AC35',\n",
       "       '798CDAE9', '6406086C', 'B562102A', '5159612F', '01DA0F63',\n",
       "       '5C77B34E', '325D8F51', '15E91AF7', 'DCDEFA1C', '59AB0E34',\n",
       "       'CA526737', '60904C78', 'EDD7FF64', '04ED4A0C', 'C12FDFF0',\n",
       "       '6BA67B46', 'E38FBF6F', '4D3552CC', '925633CC', '10AB859B',\n",
       "       '2E185236', '64B40B8E', 'D9122C1D', 'FDC87F68', '9F5D81F0',\n",
       "       'AC424B61', '72AF7147', 'D63ED83F', '706D2B8F', 'E046A8C0',\n",
       "       '394CDA5F', 'BFE8CA0E', '092AAACD', 'AEE13843', 'BD00B512',\n",
       "       'F36540C9', 'F92318ED', 'A6CE98B0', '06099CBA', '2CCC186E',\n",
       "       '0E1A4EC8', '0C809FF8', '5A8A2DB6', 'E1F0D894', 'D1D201B2',\n",
       "       'A17CAA27', '583276', '44017B89', '2.19E+26', '3A037C14',\n",
       "       '277F0D22', '1B11837F', '5818A45C', 'B7CFB014', 'EF804A69',\n",
       "       'BB521184', 'FC31E97D', '38F1D3C2', 'C0634D6C', '7469E4B1',\n",
       "       '62836F4F', 'FC8C0DE1', '9B2EDD53', '78BB3186', '92EA93B1',\n",
       "       'F4105781', '5C153E03', '1E81440A', '6F6DA17A', 'DB3FC883',\n",
       "       '50D9F178', 'C7BB32CB', '72E6DCA4', '024FF02E', '7C3A9684',\n",
       "       'DAB67D54', 'B3A5560D', 'AF7032FC', '4723D7BE', '9AE2084D',\n",
       "       'C6758373', '746D6699', '2F4D449E', '0DBCC886', 'E3F8BDBF',\n",
       "       '9B3C3A79', 'F268AC1E', '2A8C083D', '1DECEC9C', '6F7CB4FF',\n",
       "       'B509489A', 'C9A9F3D3', '75ADDF66', '72E53076', 'ED28D729',\n",
       "       'F614DCE6', '30B14E87', '7C81118D', '7F5C3DAF', 'D52082E3',\n",
       "       '2718F61F', 'B46B8BCD', 'B089BEA7', '6132EE3F', 'A9247B21',\n",
       "       'F3C79376', '1CC6DCF8', '69A3C687', 'BC9E153B', 'C793861C',\n",
       "       'E93AE370', 'AB3B3B04', '05DB7EC1', 'E38C2E29', 'FD2A17B6',\n",
       "       '64FAC72B', 'BD986DC8', '44F049A4', '6E074C22', 'A7553A1B',\n",
       "       '4C46F8D0', '7CF683C9', '258DCDA7', 'D2D153C6', 'A4245F6E',\n",
       "       '0B0AA99E', 'E2EF254E', '4178AF1E', 'EEE7667E', '030550B4',\n",
       "       '94752C33', 'F95406B9', 'FF08D5E5', '8EA7D3D4', '8D4BCF16',\n",
       "       'D904D134', '0CF91282', '6FBFB8AB', '2A4C09AB', '6EA6B9B9',\n",
       "       'F4531B8B', 'CCF71804', '65509554', '96B47119', '0FD631B4',\n",
       "       'CF4FBFFC', '5418465D', 'F0B1846E', 'F0D81EE0', '0C12F6D3',\n",
       "       '94360CC8', '9EDFC5C5', 'B787000C', '8EF7F3FE', 'B6C4DDAD',\n",
       "       '30A70FDF', 'F4B89B74', '82182BA7', '52EB6E54', 'A89D97E5',\n",
       "       '198A5D83', 'F923D2ED', 'C987C36D', 'A99D5FAE', '4299CF5B',\n",
       "       'C2536A7E', 'F4D40D2D', 'F1A5F7DE', 'E736090C', '4FD795CD',\n",
       "       'DC38C03D', '0EC1D105', 'E5163BD4', 'DF40152B', '1382E1E3',\n",
       "       'D7F68B0B', '81A37EB9', 'B25CED99', 'E56BF103', 'A38EF107',\n",
       "       'A48A416E', '987A320E', 'C6A90F38', '16C4F68F', '12CD99F7',\n",
       "       '87284AA6', 'CD986526', '67D1C1E3', '96AE8255', '2EA5725F',\n",
       "       '8C7C7124', '8C1F8C78', '325E6894', '043AA544', 'BDFD1266',\n",
       "       '56F07E91', '0FEA1F08', '42A833A3', 'DFDA5758', 'F0BC66AF',\n",
       "       '402AF33A', '0E28FA92', '31A5BB5A', '992A4AE1', '20B0A53B',\n",
       "       '2ADBD160', '73B48C5B', '7B19BF0F', '511661A4', '2.22E+97',\n",
       "       '29F58BBA', '5A37916F', 'F170FFE5', 'D27FC3D2', 'D97CE2C9',\n",
       "       '743ECAC5', '130D8333', '09C3C973', '4A406A4B', '3F148C99',\n",
       "       '7DD959CE', '15808973', '252D32EC', '23430137', 'DB61372C',\n",
       "       'ABD9EEEE', 'DE88141F', '95E49030', '554A7B7B', 'EAC0FBB3',\n",
       "       '465B35BF', '9770AEB5', '73256A99', 'F22AB4DD', '725B6816',\n",
       "       'FEC09848', 'B693C74A', '9D698930', '237D1328', 'E4005F6F',\n",
       "       '1748EB8C', 'E3C6A672', '27FB8DAE', '7D7664EE', 'C62FF913',\n",
       "       '30C67306', '6AFA9196', 'A028AD31', '0BF9DF54', 'A81DF61C',\n",
       "       'CB4EE3ED', '188BB0B1', 'A42F945A', '84EBB71B', '1FCEE43F',\n",
       "       'C2D95B66', '49D64FF6', 'D62CEAC0', '5086E77E', '9D779251',\n",
       "       '8B0EF66B', '3E8BD715', '9DBE651C', '168CF505', '18DDF42E',\n",
       "       'E6633476', '7C0465AD', 'F07939FA', '06F7A33D', 'E256F410',\n",
       "       '4BDDC3C8', '13390B88', 'ABC270E9', 'A69680E0', 'BDB36530',\n",
       "       '45378D30', 'A8F8DB05', '54604997', '8875382A', 'B6346F22',\n",
       "       'D8A0C5B8', '4754F78B', 'B38D2A3C', 'B956478F', 'A4D00CB8',\n",
       "       'C0920DFB', '1AC733D8', 'AE8697EE', 'B98D343D', 'E2FB59C0',\n",
       "       '3FFE341C', '6AAD5D37', '4A8C6890', 'E4A4C05C', '9E558407',\n",
       "       '628BF107', 'C6B7BC81', '9346CDB6', 'C51F557E', 'BEC2A845',\n",
       "       'ADB76F66', '3EF4DDBD', 'B8E5F560', '1B10554E', 'B03AE8C8',\n",
       "       '70834AA9', '3D7F0A30', '0DAA9C60', 'D1FD6FF9', '9D0751AC',\n",
       "       '41707393', 'B7A0C5C7', 'EA36FA75', '8F0458A2', '3F90B9C6',\n",
       "       'D8DFEA3E', '7352D515', 'FC5D9A99', '7B2BBCB8', 'BA9290A5',\n",
       "       'B3379430', '4CE86E1E', 'EB0BA077', 'BFC24081', '53F918A2',\n",
       "       '4EB4F627', '027D8240', 'ECF8B783', '1A1F073E', 'DD59EDD5',\n",
       "       '941F83E6', '68703E0A', '92884F47', '997BA242', '4935595C',\n",
       "       'A7E1763F', 'E3BFC954', '28405C17', '4D028C13', 'B9E04039',\n",
       "       '7ED5E7C5', '72BAF71D', '31B78B80', '45E9E2F5', '090F9456',\n",
       "       'F3EC2BC6', '04526E7F', '68F1089D', 'C3EC551B', 'E149815E',\n",
       "       'D671AF34', '0612F0FF', 'D0DE4619', '69BAA322', '9D5E0A45',\n",
       "       '8785FF5C', 'D954DEB0', 'A4D24C9E', 'D743125D', '05C1AF2A',\n",
       "       'E6E7F85E', 'BAB76430', '6AE3BCFF', 'A52EA63F', '794410C8',\n",
       "       '4E6BB91E', '1AB9A435', '784AE3B1', 'AAD02DCF', '417E7682',\n",
       "       'B503F803', '6E6DBC12', '3CA7E339', 'E4AC437A', 'F4186313',\n",
       "       '63D0D986', '92D8D8AF', '9F4B72B0', '8BB9916A', 'D8D4CD43',\n",
       "       'C2386AA7', '92BBF59F', 'EF1A8E99', '8D68AD53', '6ADC62ED',\n",
       "       'F11BDABE', '2.31E+69', 'EBA56BCF', '15AD3A05', 'B6A2AA51',\n",
       "       'BC00AA44', '3.59E+95', 'E35C0AA6', '9848F630', '5EA95DF8',\n",
       "       'DDF98BD6', '4D7B682F', '25AD6A69', '14AD4FE5', '5DEB4D06',\n",
       "       'A07B1855', '1CDA6D8B', '53629C94', '8B149D00', '532094B8',\n",
       "       'C85DA244', '3D570B49', '29E16826', '9CBBF59D', '7E8606C0',\n",
       "       'FD0D45BC', '6FB70947', '70501B23', 'C3A76AA8', '74068922',\n",
       "       'EF826CAF', '30F98729', 'D09B13EE', '1FD5BCF1', '8F97E212',\n",
       "       '66E95C6F', 'C020A1CD', '961012A8', '844E8817', '1BB7EC1C',\n",
       "       'B6EA8C80', 'F92FB183', '5F4D8BD0', 'FC6A0F66', '8E790BA5',\n",
       "       '20855462', 'A13A08F2', 'D971D72F', '6F721FFB', '5BD772C7',\n",
       "       'FD3584FA', '57588482', 'FAEA642A', 'F334458B', '18B702E8',\n",
       "       'A27F4479', 'FEFA03B7', 'E0EC4269', '0276835D', 'DC4BBF00',\n",
       "       'ED016E6B', '6119BC8E', 'D8B17E0F', '0789DBF8', 'B803CBF1',\n",
       "       'D51621D5', 'B79AC664', '8C304CC8', 'CC0D5097', '9FA2BD9E',\n",
       "       '8858DC98', 'B011E3DD', 'E6C0B40C', '12210424', 'AE8F554F',\n",
       "       '203B21FD', 'BB0E8DFB', 'D692B562', 'D1A09A9E', 'FBD3A0E2',\n",
       "       'C6985FE4', 'F3515162', '269EAC90', 'C2BB684F', 'BFCB9030',\n",
       "       '4E26A6AA', '959FE980', '5B585D8C', '71F071C5', '6AAD798B',\n",
       "       '04CC9C7B', '9F2F4BD4', '2A8A931A', '3ED64694', 'A9A378C3',\n",
       "       'B0F9B46C', '4457D7A7', '6C961E87', 'E88D7E14', 'F845820F',\n",
       "       '92DC4584', 'E8AB3174', 'C1DB9A98', '66406439', '56B77CF9',\n",
       "       'DD54C960', 'C41FAE05', '169BC06C', '1AC40900', 'A77970B4',\n",
       "       'BB655BFA', '87F7F781', '8ECAD078', 'F9BB4ADE', 'F9A018FE',\n",
       "       '6D3037F1', '7FADF821', '1E44E6C0', '65A995EE', 'FC5AD32A',\n",
       "       '4EF42365', '44A4B6D7', '5192611D', 'AB2668BB', 'B65B7007',\n",
       "       'E82599AB', '5980EDAA', 'F81393AC', 'C03456FA', '26F6C419',\n",
       "       '5A9A7AC2', '77C4459F', 'EC7DF9D4', '65521965', 'D0BF1212',\n",
       "       'D2EF5659', '32EB9307', '089012D6', 'AFF6AB26', '4C841CCA',\n",
       "       'DBF7D270', 'E0400C84', '6EC0205E', 'DEF83D6D', '27B60F15',\n",
       "       'F22FF1DD', '36B494AB', 'A7B961AF', '297EA0A0', '1C1873D1',\n",
       "       '7F59BBF8', 'BE3BF7C6', '685C049E', '1DE4E34D', '8915BB3C',\n",
       "       '1DED150F', 'D1512279', '9C5272A9', '98CA29F6', '140A98D7',\n",
       "       'F839914F', '7762A048', 'C4525B48', '47D04ACD', '5FE56EF5',\n",
       "       'F4F5B091', '706DABF0', 'F126B510', '8ED26AFC', '982A2E4A',\n",
       "       '03E72A49', 'F934106A', '3E91D040', '912DFC5F', 'BCEBD28D',\n",
       "       'EA1D17EA', '88F87413', 'E7BECA4F', '2655748F', '807BD54D',\n",
       "       'E3821D85', '97B9E781', 'EC324A81', '572A531B', 'C4A2D5A8',\n",
       "       'ECEAB010', '3D8D5F3A', '6F31819E', '48DAD0F5', '179C7E83',\n",
       "       '799A5EBA', 'F86CD6DC', 'B2B843A8', 'C070E2B8', 'AD3D5D07',\n",
       "       '9E8ADCB4', 'B4FD45F4', 'E4D750D1', '4A0F1F11', 'A631BA54',\n",
       "       '6B8E9900', '7ECFFD64', '530B703A', '96827C15', 'E05DF5D4',\n",
       "       'CAEBAAA8', '9E442F19', '05E86038', 'FFAD51FD', 'C07AD2EB',\n",
       "       '0DF7DC9C', '778CC01B', '26DF3F2D', '235CF9F5', 'F0DB467A',\n",
       "       'DF5773AD', '2916AE32', '42D67EC9', '1BEB91E4', 'E9D022A1',\n",
       "       '452B8B0C', '5F8F2D9B', '07C9786B', '55633C73', 'BF747B8B',\n",
       "       '7A9AAD9D', 'BBD044D0', 'E5D02239', '4A560402', '6432062C',\n",
       "       'BE023709', 'B1B8D243', 'A3F89B9B', 'D23F0250', 'AC116BE1',\n",
       "       'E82B1340', 'E37C1A0A', '6A76D1CB', 'EBD261E5', '14F896CB',\n",
       "       '9640D87D', '891346C4', 'BD2A1E1C', '63A8542B', '441BBAA5',\n",
       "       '01C41039', 'AF781B2A', '0AAA60CC', '99BED0A3', 'DA970FDF',\n",
       "       '24DCC4FA', '319A0E51', '6474B633', '65DAE1C8', 'DE7D96A0',\n",
       "       '9E9D545C', '8A7A0A20', 'EDD74C33', '87E72531', '0D116868',\n",
       "       '4D96D63E', 'A5F8A991', 'B9602361', 'B0B5A9A3', 'D0D5AFD4',\n",
       "       '7EF556EA', '35FA23FC', '08856A96', '4E22D0EC', 'B5FDBE2E',\n",
       "       '292B1876', 'BCA020E9', '10C9252B', '1806BAD9', 'B70C2ECB',\n",
       "       '9CF0C2A7', 'D97C8D25', 'CB37F575', 'EFB9780D', 'CE03F442',\n",
       "       '786298C6', '0D63CCBE', '77F49B9E', 'E3A7C10E', 'E0B9A4AD',\n",
       "       'BFB1F145', 'D9EE4471', '07B70113', '49C2EB94', '18E7AAEE',\n",
       "       '8BC4B345', '6141CAEC', '73C65D2D', 'FF2FC3C1', 'A6B49D8C',\n",
       "       '1C503880', '550756C9', '8D3013DA', '7E6B961E', '1A03550A',\n",
       "       'DA9C99BA', '7F59DBC6', '3989AC45', 'AC423A31', '70AE83B9',\n",
       "       'CB85CD87', '94090296', '4D25F28D', 'F35B37CB', 'BB8EB8C6',\n",
       "       '73A002C6', 'E184A927', 'F86A1B96', '180D6812', 'E436108E',\n",
       "       '726D2016', 'EB61A97B', '1521B137', '92DE6D07', '7A18D070',\n",
       "       'D137872C', 'BF378D96', '197A0D79', '4E1E927A', 'BBDC140B',\n",
       "       '3048C8D4', '0099AD07', 'F3A5D7E6', '4C6C8AE2', 'A84C7B19',\n",
       "       '807D0C0A', '2E46172F', '2B7ECDCB', '827C5D94', '50A38724',\n",
       "       'B3A1DFF9', '0392B07A', '521D8328', 'E846A4C5', '7CAD013D',\n",
       "       '37F4D565', '16090F0D', '41055EFC', '6D919C24', 'C88D1C84',\n",
       "       '40C87802', 'CAD8533F', 'E4CED692', '0CEB58B5', 'CACBF20F',\n",
       "       '313735F1', 'A311072B', 'F47D7808', 'BD4122FA', '7D3EC787',\n",
       "       'C79A3277', '6BDC0F08', '192C8879', 'E19AC459'], dtype=object)"
      ]
     },
     "execution_count": 14,
     "metadata": {},
     "output_type": "execute_result"
    }
   ],
   "source": [
    "df['User Id'].unique()"
   ]
  },
  {
   "cell_type": "code",
   "execution_count": 17,
   "id": "12c54085",
   "metadata": {},
   "outputs": [
    {
     "data": {
      "text/plain": [
       "array(['Karnataka', 'Chattisgarh', 'Maharashtra', 'Jammu and Kashmir',\n",
       "       'Chathisgarh', 'AP', 'Madhya Pradesh', 'Kar', 'Jammu & Kashmir',\n",
       "       'Gujarat', 'Rajasthan', 'HP', 'Chhattisgarh', 'Delhi', 'Telengana',\n",
       "       'Utharakhand', 'Assam', 'Uttarakhand', 'Telangana', 'West Bengal',\n",
       "       'Bihar', 'Haryana', 'WB', 'UP', 'Tamil Nadu', 'Uttar Pradesh',\n",
       "       'Himachal Pradesh', 'Orissa', 'New Delhi', 'TN', 'KAR', 'MP',\n",
       "       'Punjab', 'Jharkhand', 'Andhra Pradesh', 'Odisha', 'J&K'],\n",
       "      dtype=object)"
      ]
     },
     "execution_count": 17,
     "metadata": {},
     "output_type": "execute_result"
    }
   ],
   "source": [
    "df['State (entered by user)'].unique()"
   ]
  },
  {
   "cell_type": "code",
   "execution_count": 31,
   "id": "6678adae",
   "metadata": {},
   "outputs": [],
   "source": [
    "df['State (entered by user)'].replace(['Kar', 'KAR'],'Karnataka', inplace=True)\n",
    "df['State (entered by user)'].replace(['Chattisgarh', 'Chathisgarh'],'Chhattisgarh', inplace=True)\n",
    "df['State (entered by user)'].replace(['Jammu & Kashmir', 'J&K'],'Jammu and Kashmir', inplace=True)\n",
    "df['State (entered by user)'].replace('AP', 'Andhra Pradesh', inplace=True)\n",
    "df['State (entered by user)'].replace('MP','Madhya Pradesh', inplace=True)\n",
    "df['State (entered by user)'].replace('HP','Himachal Pradesh', inplace=True)\n",
    "df['State (entered by user)'].replace('WB','West Bengal', inplace=True)\n",
    "df['State (entered by user)'].replace('TN','Tamil Nadu', inplace=True)\n",
    "df['State (entered by user)'].replace('UP','Uttar Pradesh', inplace=True)\n",
    "df['State (entered by user)'].replace('Telengana', 'Telangana', inplace=True)\n",
    "df['State (entered by user)'].replace('Orissa', 'Odisha', inplace=True)\n",
    "df['State (entered by user)'].replace('Utharakhand', 'Uttarakhand', inplace=True)\n"
   ]
  },
  {
   "cell_type": "code",
   "execution_count": 35,
   "id": "6ec422b2",
   "metadata": {},
   "outputs": [
    {
     "data": {
      "text/plain": [
       "array(['Karnataka', 'Chhattisgarh', 'Maharashtra', 'Jammu and Kashmir',\n",
       "       'Andhra Pradesh', 'Madhya Pradesh', 'Gujarat', 'Rajasthan',\n",
       "       'Himachal Pradesh', 'Delhi', 'Telangana', 'Uttarakhand', 'Assam',\n",
       "       'West Bengal', 'Bihar', 'Haryana', 'Uttar Pradesh', 'Tamil Nadu',\n",
       "       'Odisha', 'New Delhi', 'Punjab', 'Jharkhand'], dtype=object)"
      ]
     },
     "execution_count": 35,
     "metadata": {},
     "output_type": "execute_result"
    }
   ],
   "source": [
    "df['State (entered by user)'].unique()"
   ]
  },
  {
   "cell_type": "code",
   "execution_count": 37,
   "id": "f349fb7c",
   "metadata": {},
   "outputs": [
    {
     "data": {
      "text/plain": [
       "array(['M', 'F'], dtype=object)"
      ]
     },
     "execution_count": 37,
     "metadata": {},
     "output_type": "execute_result"
    }
   ],
   "source": [
    "df.Gender.unique()"
   ]
  },
  {
   "cell_type": "code",
   "execution_count": 36,
   "id": "437fbd00",
   "metadata": {},
   "outputs": [
    {
     "data": {
      "text/html": [
       "<div>\n",
       "<style scoped>\n",
       "    .dataframe tbody tr th:only-of-type {\n",
       "        vertical-align: middle;\n",
       "    }\n",
       "\n",
       "    .dataframe tbody tr th {\n",
       "        vertical-align: top;\n",
       "    }\n",
       "\n",
       "    .dataframe thead th {\n",
       "        text-align: right;\n",
       "    }\n",
       "</style>\n",
       "<table border=\"1\" class=\"dataframe\">\n",
       "  <thead>\n",
       "    <tr style=\"text-align: right;\">\n",
       "      <th></th>\n",
       "      <th>Date</th>\n",
       "      <th>User Id</th>\n",
       "      <th>Revenue collected</th>\n",
       "      <th>State (entered by user)</th>\n",
       "      <th>Gender</th>\n",
       "    </tr>\n",
       "  </thead>\n",
       "  <tbody>\n",
       "    <tr>\n",
       "      <th>0</th>\n",
       "      <td>01-04-2021</td>\n",
       "      <td>FF5B5B7F</td>\n",
       "      <td>53</td>\n",
       "      <td>Karnataka</td>\n",
       "      <td>M</td>\n",
       "    </tr>\n",
       "    <tr>\n",
       "      <th>1</th>\n",
       "      <td>02-04-2021</td>\n",
       "      <td>FF5B5B7F</td>\n",
       "      <td>68</td>\n",
       "      <td>Karnataka</td>\n",
       "      <td>M</td>\n",
       "    </tr>\n",
       "    <tr>\n",
       "      <th>2</th>\n",
       "      <td>03-04-2021</td>\n",
       "      <td>FF5B5B7F</td>\n",
       "      <td>53</td>\n",
       "      <td>Karnataka</td>\n",
       "      <td>M</td>\n",
       "    </tr>\n",
       "    <tr>\n",
       "      <th>3</th>\n",
       "      <td>04-04-2021</td>\n",
       "      <td>FF5B5B7F</td>\n",
       "      <td>67</td>\n",
       "      <td>Karnataka</td>\n",
       "      <td>M</td>\n",
       "    </tr>\n",
       "    <tr>\n",
       "      <th>4</th>\n",
       "      <td>05-04-2021</td>\n",
       "      <td>FF5B5B7F</td>\n",
       "      <td>55</td>\n",
       "      <td>Karnataka</td>\n",
       "      <td>M</td>\n",
       "    </tr>\n",
       "  </tbody>\n",
       "</table>\n",
       "</div>"
      ],
      "text/plain": [
       "         Date   User Id  Revenue collected State (entered by user) Gender\n",
       "0  01-04-2021  FF5B5B7F                 53               Karnataka      M\n",
       "1  02-04-2021  FF5B5B7F                 68               Karnataka      M\n",
       "2  03-04-2021  FF5B5B7F                 53               Karnataka      M\n",
       "3  04-04-2021  FF5B5B7F                 67               Karnataka      M\n",
       "4  05-04-2021  FF5B5B7F                 55               Karnataka      M"
      ]
     },
     "execution_count": 36,
     "metadata": {},
     "output_type": "execute_result"
    }
   ],
   "source": [
    "df.head()"
   ]
  },
  {
   "cell_type": "markdown",
   "id": "5e9006ce",
   "metadata": {},
   "source": [
    "# Qestions:-"
   ]
  },
  {
   "cell_type": "markdown",
   "id": "24d8ea02",
   "metadata": {},
   "source": [
    "1. Which are the top-5 states in terms of Revenue offered in the Month of April? How much revenue was collected from each of these states (6 points)\n",
    "*Answer :"
   ]
  },
  {
   "cell_type": "code",
   "execution_count": 87,
   "id": "6a99841f",
   "metadata": {},
   "outputs": [
    {
     "data": {
      "text/html": [
       "<div>\n",
       "<style scoped>\n",
       "    .dataframe tbody tr th:only-of-type {\n",
       "        vertical-align: middle;\n",
       "    }\n",
       "\n",
       "    .dataframe tbody tr th {\n",
       "        vertical-align: top;\n",
       "    }\n",
       "\n",
       "    .dataframe thead th {\n",
       "        text-align: right;\n",
       "    }\n",
       "</style>\n",
       "<table border=\"1\" class=\"dataframe\">\n",
       "  <thead>\n",
       "    <tr style=\"text-align: right;\">\n",
       "      <th></th>\n",
       "      <th>State (entered by user)</th>\n",
       "      <th>Revenue collected</th>\n",
       "    </tr>\n",
       "  </thead>\n",
       "  <tbody>\n",
       "    <tr>\n",
       "      <th>10</th>\n",
       "      <td>Karnataka</td>\n",
       "      <td>92548</td>\n",
       "    </tr>\n",
       "    <tr>\n",
       "      <th>3</th>\n",
       "      <td>Chhattisgarh</td>\n",
       "      <td>75237</td>\n",
       "    </tr>\n",
       "    <tr>\n",
       "      <th>21</th>\n",
       "      <td>West Bengal</td>\n",
       "      <td>70240</td>\n",
       "    </tr>\n",
       "    <tr>\n",
       "      <th>17</th>\n",
       "      <td>Tamil Nadu</td>\n",
       "      <td>65697</td>\n",
       "    </tr>\n",
       "    <tr>\n",
       "      <th>20</th>\n",
       "      <td>Uttarakhand</td>\n",
       "      <td>59825</td>\n",
       "    </tr>\n",
       "  </tbody>\n",
       "</table>\n",
       "</div>"
      ],
      "text/plain": [
       "   State (entered by user)  Revenue collected\n",
       "10               Karnataka              92548\n",
       "3             Chhattisgarh              75237\n",
       "21             West Bengal              70240\n",
       "17              Tamil Nadu              65697\n",
       "20             Uttarakhand              59825"
      ]
     },
     "execution_count": 87,
     "metadata": {},
     "output_type": "execute_result"
    }
   ],
   "source": [
    "total_revenue =  df.groupby('State (entered by user)', as_index=False).sum().sort_values('Revenue collected', ascending=False)\n",
    "total_revenue[:5]"
   ]
  },
  {
   "cell_type": "markdown",
   "id": "e4a669f9",
   "metadata": {},
   "source": [
    "2. What is the average number of users active on the App per day? (2 points)\n",
    "*Answer :"
   ]
  },
  {
   "cell_type": "code",
   "execution_count": 80,
   "id": "d462b986",
   "metadata": {},
   "outputs": [
    {
     "data": {
      "text/plain": [
       "499"
      ]
     },
     "execution_count": 80,
     "metadata": {},
     "output_type": "execute_result"
    }
   ],
   "source": [
    "df['User Id'].count()// 30"
   ]
  },
  {
   "cell_type": "markdown",
   "id": "22da5e70",
   "metadata": {},
   "source": [
    "3. What is the average revenue collected per user per day? (2 points)\n",
    "*Answer :"
   ]
  },
  {
   "cell_type": "code",
   "execution_count": 97,
   "id": "baa92d4b",
   "metadata": {},
   "outputs": [
    {
     "data": {
      "text/plain": [
       "26"
      ]
     },
     "execution_count": 97,
     "metadata": {},
     "output_type": "execute_result"
    }
   ],
   "source": [
    "(df['Revenue collected'].sum()//len(df['User Id'].unique())) //30"
   ]
  },
  {
   "cell_type": "code",
   "execution_count": null,
   "id": "14e1169b",
   "metadata": {},
   "outputs": [],
   "source": []
  }
 ],
 "metadata": {
  "kernelspec": {
   "display_name": "Python 3 (ipykernel)",
   "language": "python",
   "name": "python3"
  },
  "language_info": {
   "codemirror_mode": {
    "name": "ipython",
    "version": 3
   },
   "file_extension": ".py",
   "mimetype": "text/x-python",
   "name": "python",
   "nbconvert_exporter": "python",
   "pygments_lexer": "ipython3",
   "version": "3.9.7"
  }
 },
 "nbformat": 4,
 "nbformat_minor": 5
}
